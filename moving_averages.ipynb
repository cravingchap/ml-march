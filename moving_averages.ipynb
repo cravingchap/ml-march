{
 "cells": [
  {
   "cell_type": "code",
   "execution_count": 15,
   "metadata": {},
   "outputs": [
    {
     "name": "stdout",
     "output_type": "stream",
     "text": [
      "[10, 7.0, 0, 0, 0]\n",
      "0\n",
      "0 ----\n",
      "\n",
      "[10, 7.0, 7.5, 0, 0]\n",
      "1\n",
      "1 ----\n",
      "\n",
      "[10, 7.0, 7.5, 6.75, 0]\n",
      "2\n",
      "2 ----\n",
      "\n",
      "[10, 7.0, 7.5, 6.75, 6.875]\n",
      "3\n",
      "3 ----\n",
      "\n",
      "end [10, 7.0, 7.5, 6.75, 6.875]\n"
     ]
    }
   ],
   "source": [
    "a = 0.5\n",
    "t = [4,8,6,7]\n",
    "T = [10,0,0,0,0]\n",
    "\n",
    "def calc_mov_avg(n):\n",
    "    T[n+1] = (a * t[n]) + ((1 - a) * T[n]) ;\n",
    "    print(T)\n",
    "    print(n)\n",
    "\n",
    "k =4\n",
    "for i in range(k):\n",
    "     calc_mov_avg(i)\n",
    "     print(i ,\"----\\n\")\n",
    "     \n",
    "\n",
    "print(\"end\",T)\n"
   ]
  }
 ],
 "metadata": {
  "kernelspec": {
   "display_name": "Python 3",
   "language": "python",
   "name": "python3"
  },
  "language_info": {
   "codemirror_mode": {
    "name": "ipython",
    "version": 3
   },
   "file_extension": ".py",
   "mimetype": "text/x-python",
   "name": "python",
   "nbconvert_exporter": "python",
   "pygments_lexer": "ipython3",
   "version": "3.12.0"
  }
 },
 "nbformat": 4,
 "nbformat_minor": 2
}
